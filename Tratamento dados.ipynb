{
 "cells": [
  {
   "cell_type": "code",
   "execution_count": 2,
   "id": "7c16c0dc",
   "metadata": {},
   "outputs": [
    {
     "data": {
      "text/html": [
       "<div>\n",
       "<style scoped>\n",
       "    .dataframe tbody tr th:only-of-type {\n",
       "        vertical-align: middle;\n",
       "    }\n",
       "\n",
       "    .dataframe tbody tr th {\n",
       "        vertical-align: top;\n",
       "    }\n",
       "\n",
       "    .dataframe thead th {\n",
       "        text-align: right;\n",
       "    }\n",
       "</style>\n",
       "<table border=\"1\" class=\"dataframe\">\n",
       "  <thead>\n",
       "    <tr style=\"text-align: right;\">\n",
       "      <th></th>\n",
       "      <th>Year</th>\n",
       "      <th>Month</th>\n",
       "      <th>Day</th>\n",
       "      <th>Weekend?</th>\n",
       "      <th>Hour</th>\n",
       "      <th>Collision Type</th>\n",
       "      <th>Injury Type</th>\n",
       "      <th>Primary Factor</th>\n",
       "      <th>Reported_Location</th>\n",
       "      <th>Latitude</th>\n",
       "      <th>Longitude</th>\n",
       "    </tr>\n",
       "  </thead>\n",
       "  <tbody>\n",
       "    <tr>\n",
       "      <th>0</th>\n",
       "      <td>2015</td>\n",
       "      <td>1</td>\n",
       "      <td>5</td>\n",
       "      <td>Weekday</td>\n",
       "      <td>0.0</td>\n",
       "      <td>2-Car</td>\n",
       "      <td>No injury/unknown</td>\n",
       "      <td>OTHER (DRIVER) - EXPLAIN IN NARRATIVE</td>\n",
       "      <td>1ST &amp; FESS</td>\n",
       "      <td>39.159207</td>\n",
       "      <td>-86.525874</td>\n",
       "    </tr>\n",
       "    <tr>\n",
       "      <th>1</th>\n",
       "      <td>2015</td>\n",
       "      <td>1</td>\n",
       "      <td>6</td>\n",
       "      <td>Weekday</td>\n",
       "      <td>1500.0</td>\n",
       "      <td>2-Car</td>\n",
       "      <td>No injury/unknown</td>\n",
       "      <td>FOLLOWING TOO CLOSELY</td>\n",
       "      <td>2ND &amp; COLLEGE</td>\n",
       "      <td>39.161440</td>\n",
       "      <td>-86.534848</td>\n",
       "    </tr>\n",
       "    <tr>\n",
       "      <th>2</th>\n",
       "      <td>2015</td>\n",
       "      <td>1</td>\n",
       "      <td>6</td>\n",
       "      <td>Weekend</td>\n",
       "      <td>2300.0</td>\n",
       "      <td>2-Car</td>\n",
       "      <td>Non-incapacitating</td>\n",
       "      <td>DISREGARD SIGNAL/REG SIGN</td>\n",
       "      <td>BASSWOOD &amp; BLOOMFIELD</td>\n",
       "      <td>39.149780</td>\n",
       "      <td>-86.568890</td>\n",
       "    </tr>\n",
       "    <tr>\n",
       "      <th>3</th>\n",
       "      <td>2015</td>\n",
       "      <td>1</td>\n",
       "      <td>7</td>\n",
       "      <td>Weekend</td>\n",
       "      <td>900.0</td>\n",
       "      <td>2-Car</td>\n",
       "      <td>Non-incapacitating</td>\n",
       "      <td>FAILURE TO YIELD RIGHT OF WAY</td>\n",
       "      <td>GATES &amp; JACOBS</td>\n",
       "      <td>39.165655</td>\n",
       "      <td>-86.575956</td>\n",
       "    </tr>\n",
       "    <tr>\n",
       "      <th>4</th>\n",
       "      <td>2015</td>\n",
       "      <td>1</td>\n",
       "      <td>7</td>\n",
       "      <td>Weekend</td>\n",
       "      <td>1100.0</td>\n",
       "      <td>2-Car</td>\n",
       "      <td>No injury/unknown</td>\n",
       "      <td>FAILURE TO YIELD RIGHT OF WAY</td>\n",
       "      <td>W 3RD</td>\n",
       "      <td>39.164848</td>\n",
       "      <td>-86.579625</td>\n",
       "    </tr>\n",
       "    <tr>\n",
       "      <th>...</th>\n",
       "      <td>...</td>\n",
       "      <td>...</td>\n",
       "      <td>...</td>\n",
       "      <td>...</td>\n",
       "      <td>...</td>\n",
       "      <td>...</td>\n",
       "      <td>...</td>\n",
       "      <td>...</td>\n",
       "      <td>...</td>\n",
       "      <td>...</td>\n",
       "      <td>...</td>\n",
       "    </tr>\n",
       "    <tr>\n",
       "      <th>53938</th>\n",
       "      <td>2003</td>\n",
       "      <td>10</td>\n",
       "      <td>6</td>\n",
       "      <td>Weekday</td>\n",
       "      <td>1700.0</td>\n",
       "      <td>2-Car</td>\n",
       "      <td>No injury/unknown</td>\n",
       "      <td>IMPROPER LANE USAGE</td>\n",
       "      <td>DUNN &amp; WHITE LOT WEST</td>\n",
       "      <td>0.000000</td>\n",
       "      <td>0.000000</td>\n",
       "    </tr>\n",
       "    <tr>\n",
       "      <th>53939</th>\n",
       "      <td>2003</td>\n",
       "      <td>11</td>\n",
       "      <td>3</td>\n",
       "      <td>Weekday</td>\n",
       "      <td>800.0</td>\n",
       "      <td>1-Car</td>\n",
       "      <td>No injury/unknown</td>\n",
       "      <td>UNSAFE SPEED</td>\n",
       "      <td>RED OAK &amp; SR446</td>\n",
       "      <td>0.000000</td>\n",
       "      <td>0.000000</td>\n",
       "    </tr>\n",
       "    <tr>\n",
       "      <th>53940</th>\n",
       "      <td>2003</td>\n",
       "      <td>12</td>\n",
       "      <td>5</td>\n",
       "      <td>Weekday</td>\n",
       "      <td>1200.0</td>\n",
       "      <td>2-Car</td>\n",
       "      <td>No injury/unknown</td>\n",
       "      <td>BRAKE FAILURE OR DEFECTIVE</td>\n",
       "      <td>2ND ST &amp; WALNUT</td>\n",
       "      <td>0.000000</td>\n",
       "      <td>0.000000</td>\n",
       "    </tr>\n",
       "    <tr>\n",
       "      <th>53941</th>\n",
       "      <td>2003</td>\n",
       "      <td>12</td>\n",
       "      <td>1</td>\n",
       "      <td>Weekend</td>\n",
       "      <td>700.0</td>\n",
       "      <td>2-Car</td>\n",
       "      <td>No injury/unknown</td>\n",
       "      <td>UNSAFE BACKING</td>\n",
       "      <td>NINETH &amp; NORTH</td>\n",
       "      <td>0.000000</td>\n",
       "      <td>0.000000</td>\n",
       "    </tr>\n",
       "    <tr>\n",
       "      <th>53942</th>\n",
       "      <td>2003</td>\n",
       "      <td>12</td>\n",
       "      <td>7</td>\n",
       "      <td>Weekend</td>\n",
       "      <td>1700.0</td>\n",
       "      <td>2-Car</td>\n",
       "      <td>Non-incapacitating</td>\n",
       "      <td>OTHER (DRIVER) - EXPLAIN IN NARRATIVE</td>\n",
       "      <td>MONROW &amp; THIRD ST</td>\n",
       "      <td>0.000000</td>\n",
       "      <td>0.000000</td>\n",
       "    </tr>\n",
       "  </tbody>\n",
       "</table>\n",
       "<p>53943 rows × 11 columns</p>\n",
       "</div>"
      ],
      "text/plain": [
       "       Year  Month  Day Weekend?    Hour Collision Type         Injury Type   \n",
       "0      2015      1    5  Weekday     0.0          2-Car   No injury/unknown  \\\n",
       "1      2015      1    6  Weekday  1500.0          2-Car   No injury/unknown   \n",
       "2      2015      1    6  Weekend  2300.0          2-Car  Non-incapacitating   \n",
       "3      2015      1    7  Weekend   900.0          2-Car  Non-incapacitating   \n",
       "4      2015      1    7  Weekend  1100.0          2-Car   No injury/unknown   \n",
       "...     ...    ...  ...      ...     ...            ...                 ...   \n",
       "53938  2003     10    6  Weekday  1700.0          2-Car   No injury/unknown   \n",
       "53939  2003     11    3  Weekday   800.0          1-Car   No injury/unknown   \n",
       "53940  2003     12    5  Weekday  1200.0          2-Car   No injury/unknown   \n",
       "53941  2003     12    1  Weekend   700.0          2-Car   No injury/unknown   \n",
       "53942  2003     12    7  Weekend  1700.0          2-Car  Non-incapacitating   \n",
       "\n",
       "                              Primary Factor      Reported_Location   \n",
       "0      OTHER (DRIVER) - EXPLAIN IN NARRATIVE             1ST & FESS  \\\n",
       "1                      FOLLOWING TOO CLOSELY          2ND & COLLEGE   \n",
       "2                  DISREGARD SIGNAL/REG SIGN  BASSWOOD & BLOOMFIELD   \n",
       "3              FAILURE TO YIELD RIGHT OF WAY         GATES & JACOBS   \n",
       "4              FAILURE TO YIELD RIGHT OF WAY                  W 3RD   \n",
       "...                                      ...                    ...   \n",
       "53938                    IMPROPER LANE USAGE  DUNN & WHITE LOT WEST   \n",
       "53939                           UNSAFE SPEED        RED OAK & SR446   \n",
       "53940             BRAKE FAILURE OR DEFECTIVE        2ND ST & WALNUT   \n",
       "53941                         UNSAFE BACKING         NINETH & NORTH   \n",
       "53942  OTHER (DRIVER) - EXPLAIN IN NARRATIVE      MONROW & THIRD ST   \n",
       "\n",
       "        Latitude  Longitude  \n",
       "0      39.159207 -86.525874  \n",
       "1      39.161440 -86.534848  \n",
       "2      39.149780 -86.568890  \n",
       "3      39.165655 -86.575956  \n",
       "4      39.164848 -86.579625  \n",
       "...          ...        ...  \n",
       "53938   0.000000   0.000000  \n",
       "53939   0.000000   0.000000  \n",
       "53940   0.000000   0.000000  \n",
       "53941   0.000000   0.000000  \n",
       "53942   0.000000   0.000000  \n",
       "\n",
       "[53943 rows x 11 columns]"
      ]
     },
     "execution_count": 2,
     "metadata": {},
     "output_type": "execute_result"
    }
   ],
   "source": [
    "import pandas as pd\n",
    "import numpy as np\n",
    "import matplotlib.pyplot as plt\n",
    "import plotly.express as px\n",
    "import seaborn as sns\n",
    "\n",
    "## importing spark for better performance\n",
    "\n",
    "dataset = pd.read_excel(\"new dataset.xlsx\")\n",
    "dataset\n",
    "\n",
    "\n",
    "\n"
   ]
  },
  {
   "cell_type": "code",
   "execution_count": 3,
   "id": "5ad442d7",
   "metadata": {},
   "outputs": [
    {
     "data": {
      "text/plain": [
       "Year  Month  Day  Weekend?  Hour    Collision Type  Injury Type         Primary Factor                         Reported_Location        Latitude   Longitude \n",
       "2004  10     4    Weekday   1200.0  1-Car           No injury/unknown   SPEED TOO FAST FOR WEATHER CONDITIONS  BOLIN & ROCKPORT RD      39.103440  -86.574992    2\n",
       "2008  9      1    Weekend   1800.0  2-Car           No injury/unknown   FOLLOWING TOO CLOSELY                  SR37N & WALNUT           39.250688  -86.529744    2\n",
       "2012  1      2    Weekday   1600.0  1-Car           No injury/unknown   SPEED TOO FAST FOR WEATHER CONDITIONS  AMY & PETE ELLIS DR      39.169312  -86.495888    2\n",
       "2011  12     3    Weekday   1100.0  1-Car           No injury/unknown   RAN OFF ROAD RIGHT                     SAMPLE & SR37N           39.267532  -86.522813    2\n",
       "2004  10     6    Weekday   1200.0  2-Car           No injury/unknown   FOLLOWING TOO CLOSELY                  ATWATER & HIGHLAND       39.163200  -86.517584    2\n",
       "                                                                                                                                                                ..\n",
       "2007  5      5    Weekday   300.0   1-Car           Non-incapacitating  ALCOHOLIC BEVERAGES                    ARBUTUS & ATWATER ST     39.163100  -86.512199    1\n",
       "                                    Pedestrian      Non-incapacitating  ALCOHOLIC BEVERAGES                    7TH & WALNUT AVE         39.168915  -86.533563    1\n",
       "                            600.0   1-Car           No injury/unknown   ANIMAL/OBJECT IN ROADWAY               DUNCAN & SR45W           39.135040  -86.596192    1\n",
       "                                                                                                               SR37S & ZIKES            39.054949  -86.535812    1\n",
       "2015  12     7    Weekend   2300.0  2-Car           Incapacitating      FAILURE TO YIELD RIGHT OF WAY          SOUTH ROGERS & WEST 2ND  39.161400  -86.538670    1\n",
       "Name: count, Length: 52520, dtype: int64"
      ]
     },
     "metadata": {},
     "output_type": "display_data"
    },
    {
     "data": {
      "text/plain": [
       "Year                    0\n",
       "Month                   0\n",
       "Day                     0\n",
       "Weekend?               68\n",
       "Hour                  225\n",
       "Collision Type          6\n",
       "Injury Type             0\n",
       "Primary Factor       1121\n",
       "Reported_Location      35\n",
       "Latitude               30\n",
       "Longitude              30\n",
       "dtype: int64"
      ]
     },
     "metadata": {},
     "output_type": "display_data"
    },
    {
     "data": {
      "text/plain": [
       "Year                   int64\n",
       "Month                  int64\n",
       "Day                    int64\n",
       "Weekend?              object\n",
       "Hour                 float64\n",
       "Collision Type        object\n",
       "Injury Type           object\n",
       "Primary Factor        object\n",
       "Reported_Location     object\n",
       "Latitude             float64\n",
       "Longitude            float64\n",
       "dtype: object"
      ]
     },
     "metadata": {},
     "output_type": "display_data"
    }
   ],
   "source": [
    "display(dataset.value_counts(), dataset.isnull().sum(), dataset.dtypes)"
   ]
  },
  {
   "cell_type": "code",
   "execution_count": 4,
   "id": "14d6cafc",
   "metadata": {},
   "outputs": [],
   "source": [
    "trasnform = {'Year':str, 'Month':str, 'Day':str}\n",
    "dataset = dataset.astype(trasnform)\n",
    "dataset['Date'] = dataset['Year'] + \"/\" + dataset[\"Day\"] + \"/\" + dataset[\"Month\"]\n",
    "dataset['Date'] = pd.to_datetime(dataset['Date']).dt.strftime('%Y-%m-%d')"
   ]
  },
  {
   "cell_type": "code",
   "execution_count": 5,
   "id": "9c739ebd",
   "metadata": {},
   "outputs": [
    {
     "data": {
      "text/plain": [
       "Index(['Year', 'Month', 'Day', 'Weekend?', 'Hour', 'Collision Type',\n",
       "       'Injury Type', 'Primary Factor', 'Reported_Location', 'Latitude',\n",
       "       'Longitude', 'Date'],\n",
       "      dtype='object')"
      ]
     },
     "execution_count": 5,
     "metadata": {},
     "output_type": "execute_result"
    }
   ],
   "source": [
    "dataset.columns"
   ]
  },
  {
   "cell_type": "code",
   "execution_count": 6,
   "id": "e5e412fd",
   "metadata": {},
   "outputs": [],
   "source": [
    "dados = dataset[['Weekend?', 'Hour', 'Collision Type',\n",
    "       'Injury Type', 'Primary Factor', 'Reported_Location', 'Latitude',\n",
    "       'Longitude', 'Date']]"
   ]
  },
  {
   "cell_type": "code",
   "execution_count": 7,
   "id": "8b1f94a6",
   "metadata": {},
   "outputs": [
    {
     "name": "stderr",
     "output_type": "stream",
     "text": [
      "/tmp/ipykernel_20610/24805464.py:2: SettingWithCopyWarning: \n",
      "A value is trying to be set on a copy of a slice from a DataFrame\n",
      "\n",
      "See the caveats in the documentation: https://pandas.pydata.org/pandas-docs/stable/user_guide/indexing.html#returning-a-view-versus-a-copy\n",
      "  dados['Weekend?'].fillna('Holiday', inplace=True)\n"
     ]
    }
   ],
   "source": [
    "## substituir os valores nulos de Weekday? por 'Holiday'\n",
    "dados['Weekend?'].fillna('Holiday', inplace=True)"
   ]
  },
  {
   "cell_type": "code",
   "execution_count": 8,
   "id": "6b74c1f5",
   "metadata": {},
   "outputs": [
    {
     "data": {
      "text/plain": [
       "1121"
      ]
     },
     "execution_count": 8,
     "metadata": {},
     "output_type": "execute_result"
    }
   ],
   "source": [
    "dados[\"Primary Factor\"].isnull().sum()"
   ]
  },
  {
   "cell_type": "code",
   "execution_count": 9,
   "id": "6c2f0132",
   "metadata": {},
   "outputs": [
    {
     "name": "stderr",
     "output_type": "stream",
     "text": [
      "/tmp/ipykernel_20610/3419611738.py:6: SettingWithCopyWarning: \n",
      "A value is trying to be set on a copy of a slice from a DataFrame\n",
      "\n",
      "See the caveats in the documentation: https://pandas.pydata.org/pandas-docs/stable/user_guide/indexing.html#returning-a-view-versus-a-copy\n",
      "  dados[\"Primary Factor\"].replace(replace_dict, inplace=True)\n"
     ]
    }
   ],
   "source": [
    "replace_dict = {\"NONE (DRIVER)\": \"DRIVER FAULT\",\n",
    "    \"NONE (ENVIRONMENTAL)\": \"ENVIRONMENT CAUSES\",\n",
    "    \"NONE (VEHICLE)\": \"VEHICLE FAULT\",\n",
    "    \"NONE (OTHER)\": \"NOT DETERMINED\",\n",
    "    }\n",
    "dados[\"Primary Factor\"].replace(replace_dict, inplace=True)"
   ]
  },
  {
   "cell_type": "code",
   "execution_count": 10,
   "id": "0d7f0f20",
   "metadata": {},
   "outputs": [
    {
     "data": {
      "text/plain": [
       "1121"
      ]
     },
     "execution_count": 10,
     "metadata": {},
     "output_type": "execute_result"
    }
   ],
   "source": [
    "dados[\"Primary Factor\"].isnull().sum()"
   ]
  },
  {
   "cell_type": "code",
   "execution_count": 11,
   "id": "c52a586a",
   "metadata": {},
   "outputs": [
    {
     "name": "stderr",
     "output_type": "stream",
     "text": [
      "/tmp/ipykernel_20610/680147118.py:2: SettingWithCopyWarning: \n",
      "A value is trying to be set on a copy of a slice from a DataFrame\n",
      "\n",
      "See the caveats in the documentation: https://pandas.pydata.org/pandas-docs/stable/user_guide/indexing.html#returning-a-view-versus-a-copy\n",
      "  dados[\"Primary Factor\"].fillna(\"NOT DETERMINED\", inplace=True)\n"
     ]
    }
   ],
   "source": [
    "#listar os dados nulos de primary factor\n",
    "dados[\"Primary Factor\"].fillna(\"NOT DETERMINED\", inplace=True)"
   ]
  },
  {
   "cell_type": "code",
   "execution_count": 12,
   "id": "e1e6d3c5",
   "metadata": {},
   "outputs": [
    {
     "data": {
      "text/plain": [
       "Weekend?               0\n",
       "Hour                 225\n",
       "Collision Type         6\n",
       "Injury Type            0\n",
       "Primary Factor         0\n",
       "Reported_Location     35\n",
       "Latitude              30\n",
       "Longitude             30\n",
       "Date                   0\n",
       "dtype: int64"
      ]
     },
     "execution_count": 12,
     "metadata": {},
     "output_type": "execute_result"
    }
   ],
   "source": [
    "dados.isnull().sum()"
   ]
  },
  {
   "cell_type": "code",
   "execution_count": 13,
   "id": "aab8bf8b",
   "metadata": {},
   "outputs": [
    {
     "name": "stderr",
     "output_type": "stream",
     "text": [
      "/tmp/ipykernel_20610/326417502.py:1: SettingWithCopyWarning: \n",
      "A value is trying to be set on a copy of a slice from a DataFrame\n",
      "\n",
      "See the caveats in the documentation: https://pandas.pydata.org/pandas-docs/stable/user_guide/indexing.html#returning-a-view-versus-a-copy\n",
      "  dados[\"Reported_Location\"].fillna(\"NOT DETERMINED\", inplace=True)\n",
      "/tmp/ipykernel_20610/326417502.py:2: SettingWithCopyWarning: \n",
      "A value is trying to be set on a copy of a slice from a DataFrame\n",
      "\n",
      "See the caveats in the documentation: https://pandas.pydata.org/pandas-docs/stable/user_guide/indexing.html#returning-a-view-versus-a-copy\n",
      "  dados[\"Latitude\"].fillna(\"0.0\", inplace=True)\n",
      "/tmp/ipykernel_20610/326417502.py:3: SettingWithCopyWarning: \n",
      "A value is trying to be set on a copy of a slice from a DataFrame\n",
      "\n",
      "See the caveats in the documentation: https://pandas.pydata.org/pandas-docs/stable/user_guide/indexing.html#returning-a-view-versus-a-copy\n",
      "  dados[\"Longitude\"].fillna(\"0.0\", inplace=True)\n",
      "/tmp/ipykernel_20610/326417502.py:4: SettingWithCopyWarning: \n",
      "A value is trying to be set on a copy of a slice from a DataFrame\n",
      "\n",
      "See the caveats in the documentation: https://pandas.pydata.org/pandas-docs/stable/user_guide/indexing.html#returning-a-view-versus-a-copy\n",
      "  dados[\"Collision Type\"].fillna(\"NOT DETERMINED\", inplace=True)\n"
     ]
    }
   ],
   "source": [
    "dados[\"Reported_Location\"].fillna(\"NOT DETERMINED\", inplace=True)\n",
    "dados[\"Latitude\"].fillna(\"0.0\", inplace=True)\n",
    "dados[\"Longitude\"].fillna(\"0.0\", inplace=True)\n",
    "dados[\"Collision Type\"].fillna(\"NOT DETERMINED\", inplace=True)"
   ]
  },
  {
   "cell_type": "code",
   "execution_count": 14,
   "id": "276848e1",
   "metadata": {},
   "outputs": [
    {
     "name": "stderr",
     "output_type": "stream",
     "text": [
      "/tmp/ipykernel_20610/1335887557.py:1: SettingWithCopyWarning: \n",
      "A value is trying to be set on a copy of a slice from a DataFrame.\n",
      "Try using .loc[row_indexer,col_indexer] = value instead\n",
      "\n",
      "See the caveats in the documentation: https://pandas.pydata.org/pandas-docs/stable/user_guide/indexing.html#returning-a-view-versus-a-copy\n",
      "  dados[\"Day\"] = dados[\"Weekend?\"]\n"
     ]
    }
   ],
   "source": [
    "dados[\"Day\"] = dados[\"Weekend?\"]"
   ]
  },
  {
   "cell_type": "code",
   "execution_count": 15,
   "id": "d4cb23ab",
   "metadata": {},
   "outputs": [],
   "source": [
    "dados_limpos = dados[['Day', 'Collision Type','Injury Type', 'Primary Factor', 'Reported_Location', 'Latitude', 'Longitude', 'Date']]"
   ]
  },
  {
   "cell_type": "code",
   "execution_count": 16,
   "id": "c25b1efd",
   "metadata": {},
   "outputs": [
    {
     "data": {
      "image/png": "[encoded data removed]",
      "text/plain": [
       "<Figure size 1500x500 with 2 Axes>"
      ]
     },
     "metadata": {},
     "output_type": "display_data"
    }
   ],
   "source": [
    "## agora que temos os dados limpos podemos criar dashboards visualizar informações sobre os dados\n",
    "\n",
    "## dashboard 1 - acidentes por dia da semana\n",
    "## dashboard 3 - acidentes por tipo de colisão\n",
    "# criando um ao lado do outro\n",
    "\n",
    "fig, axs = plt.subplots(1, 2, figsize=(15, 5))\n",
    "\n",
    "sns.countplot(data=dados_limpos, x='Day', ax=axs[0])\n",
    "axs[0].set_title('Acidentes por dia da semana')\n",
    "\n",
    "sns.countplot(data=dados_limpos, x='Collision Type', ax=axs[1])\n",
    "axs[1].set_title('Acidentes por tipo de colisão')\n",
    "\n",
    "plt.show()"
   ]
  },
  {
   "cell_type": "code",
   "execution_count": 17,
   "id": "b83e1dd9",
   "metadata": {},
   "outputs": [],
   "source": [
    "#dados_limpos.to_excel(\"dados_limpos.xlsx\", index=False)"
   ]
  },
  {
   "cell_type": "code",
   "execution_count": 22,
   "id": "1d829770",
   "metadata": {},
   "outputs": [
    {
     "name": "stderr",
     "output_type": "stream",
     "text": [
      "/tmp/ipykernel_20610/3041699100.py:1: SettingWithCopyWarning: \n",
      "A value is trying to be set on a copy of a slice from a DataFrame.\n",
      "Try using .loc[row_indexer,col_indexer] = value instead\n",
      "\n",
      "See the caveats in the documentation: https://pandas.pydata.org/pandas-docs/stable/user_guide/indexing.html#returning-a-view-versus-a-copy\n",
      "  dados_limpos['Date'] = pd.to_datetime(dados_limpos['Date'])\n"
     ]
    }
   ],
   "source": [
    "dados_limpos['Date'] = pd.to_datetime(dados_limpos['Date'])\n"
   ]
  },
  {
   "cell_type": "code",
   "execution_count": 24,
   "id": "c25b8599",
   "metadata": {},
   "outputs": [
    {
     "data": {
      "text/plain": [
       "53607   2003-01-01\n",
       "51947   2003-01-01\n",
       "51910   2003-01-01\n",
       "51705   2003-01-01\n",
       "50571   2003-01-01\n",
       "           ...    \n",
       "4271    2015-07-12\n",
       "4212    2015-07-12\n",
       "4275    2015-07-12\n",
       "4036    2015-07-12\n",
       "4127    2015-07-12\n",
       "Name: Date, Length: 53943, dtype: datetime64[ns]"
      ]
     },
     "execution_count": 24,
     "metadata": {},
     "output_type": "execute_result"
    }
   ],
   "source": [
    "dados_limpos[\"Date\"].sort_values(ascending=True)"
   ]
  },
  {
   "cell_type": "code",
   "execution_count": 25,
   "id": "1272ea59",
   "metadata": {},
   "outputs": [
    {
     "data": {
      "text/plain": [
       "Day                          object\n",
       "Collision Type               object\n",
       "Injury Type                  object\n",
       "Primary Factor               object\n",
       "Reported_Location            object\n",
       "Latitude                     object\n",
       "Longitude                    object\n",
       "Date                 datetime64[ns]\n",
       "dtype: object"
      ]
     },
     "execution_count": 25,
     "metadata": {},
     "output_type": "execute_result"
    }
   ],
   "source": [
    "dados_limpos.dtypes"
   ]
  },
  {
   "cell_type": "code",
   "execution_count": 26,
   "id": "4612fe84",
   "metadata": {},
   "outputs": [
    {
     "data": {
      "text/plain": [
       "Injury Type\n",
       "No injury/unknown     41603\n",
       "Non-incapacitating    11136\n",
       "Incapacitating         1089\n",
       "Fatal                   115\n",
       "Name: count, dtype: int64"
      ]
     },
     "execution_count": 26,
     "metadata": {},
     "output_type": "execute_result"
    }
   ],
   "source": [
    "dados_limpos[\"Injury Type\"].value_counts()\n",
    "change_description = {\"No injury/unknown\": \"No injury\", \"Non-incapacitating injury\": \"No Incapacitating\", \"Fatal injury\": \"Fatal\"}\n",
    "dados_limpos[\"Injury Type\"].replace(change_description, inplace=True)"
   ]
  },
  {
   "cell_type": "code",
   "execution_count": 35,
   "id": "328648ee",
   "metadata": {},
   "outputs": [
    {
     "data": {
      "text/plain": [
       "<Axes: xlabel='Reported_Location'>"
      ]
     },
     "execution_count": 35,
     "metadata": {},
     "output_type": "execute_result"
    },
    {
     "data": {
      "image/png": "[encoded data removed]",
      "text/plain": [
       "<Figure size 640x480 with 1 Axes>"
      ]
     },
     "metadata": {},
     "output_type": "display_data"
    }
   ],
   "source": [
    "dados_limpos[\"Reported_Location\"].value_counts()\n",
    "## quero visualizar apenas os 6 primeiros locais mais reportados\n",
    "dados_limpos[\"Reported_Location\"].value_counts().head(6)\n",
    "# e para gerar um gráfico de barras com esses dados\n",
    "dados_limpos[\"Reported_Location\"].value_counts().head(6).plot(kind='bar')\n"
   ]
  },
  {
   "cell_type": "code",
   "execution_count": 38,
   "id": "ea11fe4f",
   "metadata": {},
   "outputs": [
    {
     "data": {
      "text/plain": [
       "Reported_Location\n",
       "E 3RD ST                         375\n",
       "W 3RD ST                         222\n",
       "SR37N & VERNAL                   197\n",
       "3RD ST                           195\n",
       "S WALNUT ST                      172\n",
       "                                ... \n",
       "GARRISON CHAPEL RD & TRENDMAR      1\n",
       "GOODNIGHT & S CLARIZZ BLVD         1\n",
       "ADAIR & PLEASANT RIDGE RD          1\n",
       "BRIGHTON CRST & SMITH              1\n",
       "MONROW & THIRD ST                  1\n",
       "Name: count, Length: 19365, dtype: int64"
      ]
     },
     "execution_count": 38,
     "metadata": {},
     "output_type": "execute_result"
    }
   ],
   "source": [
    "dados_limpos[\"Reported_Location\"].value_counts()\n"
   ]
  },
  {
   "cell_type": "code",
   "execution_count": null,
   "id": "1780e080",
   "metadata": {},
   "outputs": [],
   "source": []
  }
 ],
 "metadata": {
  "kernelspec": {
   "display_name": "Python 3 (ipykernel)",
   "language": "python",
   "name": "python3"
  },
  "language_info": {
   "codemirror_mode": {
    "name": "ipython",
    "version": 3
   },
   "file_extension": ".py",
   "mimetype": "text/x-python",
   "name": "python",
   "nbconvert_exporter": "python",
   "pygments_lexer": "ipython3",
   "version": "3.9.13"
  }
 },
 "nbformat": 4,
 "nbformat_minor": 5
}
